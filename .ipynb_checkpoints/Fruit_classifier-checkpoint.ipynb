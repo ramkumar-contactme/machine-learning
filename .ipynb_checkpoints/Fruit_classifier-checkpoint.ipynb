{
 "cells": [
  {
   "cell_type": "code",
   "execution_count": null,
   "id": "d944989a-a4b5-4e7d-81ce-34ecc1fc9597",
   "metadata": {},
   "outputs": [],
   "source": [
    "# Create a machine learning model that can classify apples and oranges"
   ]
  },
  {
   "cell_type": "markdown",
   "id": "463a63be-bee2-49f4-9caf-2bf5058310ff",
   "metadata": {},
   "source": [
    "# fetch the data"
   ]
  },
  {
   "cell_type": "code",
   "execution_count": null,
   "id": "566d13b7-d393-4b3e-b002-f5fdb53a1285",
   "metadata": {},
   "outputs": [],
   "source": [
    "import pandas as pd"
   ]
  },
  {
   "cell_type": "code",
   "execution_count": null,
   "id": "8bcfac77-dde7-48d1-a320-6b4ca56d6d6a",
   "metadata": {},
   "outputs": [],
   "source": [
    "df = pd.read_csv(\"fruits.csv\")"
   ]
  },
  {
   "cell_type": "code",
   "execution_count": null,
   "id": "a3faeeec-03a5-4b09-b459-30bb958cd543",
   "metadata": {},
   "outputs": [],
   "source": [
    "df.head()"
   ]
  },
  {
   "cell_type": "code",
   "execution_count": null,
   "id": "90e42f12-87c8-4433-935a-d8601f6579dd",
   "metadata": {},
   "outputs": [],
   "source": [
    "df.shape"
   ]
  },
  {
   "cell_type": "code",
   "execution_count": null,
   "id": "57c914bd-17f3-4d5e-a204-e0aee7604153",
   "metadata": {},
   "outputs": [],
   "source": [
    "df.info()"
   ]
  },
  {
   "cell_type": "markdown",
   "id": "4feb1d6c-a1e7-46db-bfa3-17aaa15bfe19",
   "metadata": {},
   "source": [
    "# analyse the data"
   ]
  },
  {
   "cell_type": "code",
   "execution_count": null,
   "id": "d1a70fae-af95-4c6a-ba7a-78f0b7c96f01",
   "metadata": {},
   "outputs": [],
   "source": [
    "df.Fruit.value_counts()"
   ]
  },
  {
   "cell_type": "markdown",
   "id": "6b4040e4-04cb-47d8-9952-13dcd9663207",
   "metadata": {},
   "source": [
    "# identify the features and the target"
   ]
  },
  {
   "cell_type": "code",
   "execution_count": null,
   "id": "d6bc5c9f-0c1b-4bdb-8fc3-58167123e6c5",
   "metadata": {},
   "outputs": [],
   "source": [
    "target = df.Fruit\n",
    "features = df.drop(columns=['Fruit'])"
   ]
  },
  {
   "cell_type": "code",
   "execution_count": null,
   "id": "1b7aa2f2-19ec-4012-986f-45d87de879a0",
   "metadata": {},
   "outputs": [],
   "source": [
    "features.head()"
   ]
  },
  {
   "cell_type": "markdown",
   "id": "e36e1e57-13a2-4690-b513-d07d741638ba",
   "metadata": {},
   "source": [
    "# choose the ML algorithm"
   ]
  },
  {
   "cell_type": "code",
   "execution_count": null,
   "id": "48a276ed-cc4d-46f6-9e88-70548726444a",
   "metadata": {},
   "outputs": [],
   "source": [
    "from sklearn.linear_model import LogisticRegression"
   ]
  },
  {
   "cell_type": "code",
   "execution_count": null,
   "id": "41a414fe-4a85-405a-96d9-ef40e7535af9",
   "metadata": {},
   "outputs": [],
   "source": [
    "model = LogisticRegression()"
   ]
  },
  {
   "cell_type": "markdown",
   "id": "dd760d2d-c17f-48b7-99e3-7819ad8e1488",
   "metadata": {},
   "source": [
    "# train the model"
   ]
  },
  {
   "cell_type": "code",
   "execution_count": null,
   "id": "3c58aa7a-ef41-428b-b4a9-1601aacc6006",
   "metadata": {},
   "outputs": [],
   "source": [
    "model.fit(features,target)"
   ]
  },
  {
   "cell_type": "markdown",
   "id": "243fa87f-ba22-4552-bd40-7b35dbb63913",
   "metadata": {},
   "source": [
    "# find the score"
   ]
  },
  {
   "cell_type": "code",
   "execution_count": null,
   "id": "6b57fbb1-c16b-4b8d-9501-ecfb25351c51",
   "metadata": {},
   "outputs": [],
   "source": [
    "model.score(features,target)"
   ]
  },
  {
   "cell_type": "markdown",
   "id": "cba3162c-ef6f-499f-8e7a-58b9b20cb435",
   "metadata": {},
   "source": [
    "# use the model to classify"
   ]
  },
  {
   "cell_type": "code",
   "execution_count": null,
   "id": "8d215912-778d-4412-a8b6-707193a2150a",
   "metadata": {},
   "outputs": [],
   "source": [
    "model.predict([[145,0.8]])"
   ]
  },
  {
   "cell_type": "code",
   "execution_count": null,
   "id": "9bb01757-0389-42c3-a725-c5bd85cbdcb1",
   "metadata": {},
   "outputs": [],
   "source": [
    "model.predict([[150,1.7]])"
   ]
  },
  {
   "cell_type": "code",
   "execution_count": null,
   "id": "9e6281a8-56f2-4d8e-bff9-118bb326df42",
   "metadata": {},
   "outputs": [],
   "source": []
  }
 ],
 "metadata": {
  "kernelspec": {
   "display_name": "Python [conda env:base] *",
   "language": "python",
   "name": "conda-base-py"
  },
  "language_info": {
   "codemirror_mode": {
    "name": "ipython",
    "version": 3
   },
   "file_extension": ".py",
   "mimetype": "text/x-python",
   "name": "python",
   "nbconvert_exporter": "python",
   "pygments_lexer": "ipython3",
   "version": "3.12.7"
  }
 },
 "nbformat": 4,
 "nbformat_minor": 5
}
